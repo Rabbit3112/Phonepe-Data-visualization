{
 "cells": [
  {
   "cell_type": "code",
   "execution_count": null,
   "id": "42ec76fa",
   "metadata": {},
   "outputs": [],
   "source": [
    "import streamlit  as st\n",
    "import json \n",
    "import os\n",
    "import pandas as pd\n",
    "import numpy as np"
   ]
  },
  {
   "cell_type": "code",
   "execution_count": null,
   "id": "6b8e13f9",
   "metadata": {},
   "outputs": [],
   "source": [
    "       5.  This is extract the data of top transactions made in all states:\n",
    "\n",
    "#+++++++++++++++++++++++++++++++++++++++++++++++++++++++++++++++++++++++++++++++++++++++++++++++++++++++++++++++++++++++++\n",
    "\n",
    "\n",
    "path = 'pulse/data/top/transaction/country/india/state/'\n",
    "state_list = os.listdir(path)\n",
    "clm={'State':[],'Year':[],'Quarter':[],'district_name':[] ,'total_count':[],'total_amount':[]}\n",
    "\n",
    "#--------------------------------------------------------------------------------------------------------------------------\n",
    "\n",
    "\n",
    "for i in state_list:\n",
    "    p_i= path + i + '/'\n",
    "    year = os.listdir(p_i)\n",
    "    for j in year:\n",
    "        p_j = p_i + j + '/'\n",
    "        file = os.listdir(p_j)\n",
    "        for k in file:\n",
    "            p_k = p_j + k \n",
    "            Data = open(p_k,'r')\n",
    "            D = json.load(Data)\n",
    "            for z in D['data']['districts']:\n",
    "                    district_name = z['entityName']\n",
    "                    count= z['metric']['count']\n",
    "                    amount = z['metric']['amount']\n",
    "                   \n",
    "                    clm['district_name'].append(district_name)\n",
    "                    clm['total_count'].append(count)\n",
    "                    clm['total_amount'].append(amount)\n",
    "                    clm['State'].append(i)\n",
    "                    clm['Year'].append(j)\n",
    "                    clm['Quarter'].append(int(k.strip(\".json\")))\n",
    "\n",
    "top_transac = pd.DataFrame(clm)\n",
    "top_transac\n"
   ]
  },
  {
   "cell_type": "code",
   "execution_count": null,
   "id": "d8626c02",
   "metadata": {},
   "outputs": [],
   "source": [
    "cursor.execute(\"create table top_transaction(state varchar(45),year int,quarter int,district_name varchar(45),transaction_count int,transaction_amount float)\")\n",
    "for record in top_transac.values:\n",
    "    cursor.execute(\"insert into top_transaction(state,year,quarter,district_name,transaction_count,transaction_amount)values{}\".format(tuple(record)))\n",
    "    connection.commit()\n",
    "print('Data inserted into Table-5 successfully')\n",
    "    \n",
    "\n",
    "#**************************************** ------  5 th finished  ------************************************************\n",
    "\n"
   ]
  }
 ],
 "metadata": {
  "kernelspec": {
   "display_name": "Python 3 (ipykernel)",
   "language": "python",
   "name": "python3"
  },
  "language_info": {
   "codemirror_mode": {
    "name": "ipython",
    "version": 3
   },
   "file_extension": ".py",
   "mimetype": "text/x-python",
   "name": "python",
   "nbconvert_exporter": "python",
   "pygments_lexer": "ipython3",
   "version": "3.10.9"
  }
 },
 "nbformat": 4,
 "nbformat_minor": 5
}
